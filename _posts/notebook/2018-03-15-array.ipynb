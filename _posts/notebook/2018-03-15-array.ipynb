{
 "cells": [
  {
   "cell_type": "markdown",
   "metadata": {},
   "source": [
    "---\n",
    "layout: post\n",
    "title: 线性代数笔记之矩阵\n",
    "category: math\n",
    "tags: [math, ai]\n",
    "---"
   ]
  },
  {
   "cell_type": "markdown",
   "metadata": {},
   "source": [
    "线性变换\n",
    "\n",
    "行列式是线性变换的伸缩因子。\n",
    "* 行列式等于 1 ，变换图像比例不变\n",
    "* 行列式小于 1 ，缩小图像\n",
    "* 行列式大于 1 ，放大图像\n",
    "* 行列式等于 0 ，变换不可逆\n",
    "* 行列式小于 0 ，旋转方向与大于 0 时相反\n",
    "\n",
    "\n"
   ]
  },
  {
   "cell_type": "markdown",
   "metadata": {},
   "source": [
    "矩阵的秩\n",
    "* 是图像经过矩阵变换之后的空间唯独\n",
    "* 是列空间的纬度\n",
    "* 矩阵的秩 = 行空间的秩 = 列空间的秩\n"
   ]
  },
  {
   "cell_type": "markdown",
   "metadata": {},
   "source": [
    "矩阵和方程组（$A \\vec x = \\vec b$)\n",
    "* 矩阵A满秩则方程组有唯一解\n"
   ]
  },
  {
   "cell_type": "markdown",
   "metadata": {},
   "source": [
    "# 超平面\n",
    "n 维空间超平面方程为： $w_1 x_1 + w_2 x_2 + ... + w_n x_n + b =0$\n",
    "\n",
    "向量表达式为： $\\vec w \\cdot \\vec x + b = 0$, 其中 $\\vec w$ 是超平面的法向量，证明如下：\n",
    "* 假设 $\\vec x_1$ 和 $\\vec x_2$ 是超平面（由上述方程描述的超平面）上的点， 则 $\\vec w \\cdot \\vec x_i + b = 0$, $\\vec w \\cdot \\vec x_2 + b = 0$\n",
    "* 两式相减得到 $\\vec w \\cdot (\\vec x_1 - \\vec x_2) = 0$, 因为 $\\vec x_1$ 和 $\\vec x_2$ 构成的超平面的任意向量，所以 $\\vec w$ 为超平面的法向量\n",
    "\n",
    "空间中一个点 $Q = \\vec x_0$ 到超平面的距离为：\n",
    "\n",
    "$$\n",
    "d = | \\frac{\\vec w \\cdot \\vec x_0 + b}{\\left\\lVert w \\right\\rVert} |\n",
    "$$\n",
    "\n",
    "证明如下：\n",
    "* 在平面上取一点 $P=\\vec x_1$，则向量 $\\vec{PQ} = \\vec x_1 - \\vec x_0$\n",
    "* Q点到平面的距离等于向量 $\\vec{PQ}$ 在法向量上的投影，投影公式为：\n",
    "\n",
    "$$\n",
    "\\begin{matrix} \n",
    "  d & = & \\left| \\frac{\\vec{PQ} \\cdot \\vec w}{\\left\\lVert w \\right\\rVert} \\right| \\\\\n",
    "    & = & \\left| \\frac{\\vec w \\cdot (\\vec x_1 - \\vec x_0) }{\\left\\lVert w \\right\\rVert} \\right| \\\\\n",
    "    & = & \\left| \\frac{\\vec w \\cdot \\vec x_1 - \\vec w \\cdot \\vec x_0}{\\left\\lVert w \\right\\rVert} \\right| \\\\\n",
    "    & = & \\left| \\frac{-b - \\vec w \\cdot \\vec x_0}{\\left\\lVert w \\right\\rVert} \\right| \\\\\n",
    "    & = & \\left| \\frac{\\vec w \\cdot \\vec x_0 + b}{\\left\\lVert w \\right\\rVert} \\right| \\\\\n",
    "\\end{matrix}\n",
    "$$\n",
    "\n",
    "\n"
   ]
  },
  {
   "cell_type": "code",
   "execution_count": null,
   "metadata": {},
   "outputs": [],
   "source": []
  }
 ],
 "metadata": {
  "kernelspec": {
   "display_name": "Python 3",
   "language": "python",
   "name": "python3"
  },
  "language_info": {
   "codemirror_mode": {
    "name": "ipython",
    "version": 3
   },
   "file_extension": ".py",
   "mimetype": "text/x-python",
   "name": "python",
   "nbconvert_exporter": "python",
   "pygments_lexer": "ipython3",
   "version": "3.6.4"
  }
 },
 "nbformat": 4,
 "nbformat_minor": 2
}
