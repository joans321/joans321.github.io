{
 "cells": [
  {
   "cell_type": "markdown",
   "metadata": {},
   "source": [
    "---\n",
    "layout: post\n",
    "title: python 单例模式\n",
    "category: python\n",
    "tags: [python]\n",
    "---"
   ]
  },
  {
   "cell_type": "markdown",
   "metadata": {},
   "source": [
    "# Python 单例实现方法\n",
    "\n",
    "python 实现单例方法有多种，下面我们介绍几种常用的方法。\n",
    "\n",
    "\n",
    "## 1. 使用元类实现单例\n",
    "\n",
    "* 创建一个 SingleInstance 的元类\n",
    "* 类指定 metaclass = SingleInstance"
   ]
  },
  {
   "cell_type": "code",
   "execution_count": 42,
   "metadata": {},
   "outputs": [
    {
     "name": "stdout",
     "output_type": "stream",
     "text": [
      "init test0 class object\n",
      "create instance  <__main__.TestClass0 object at 0x7f5492fe66a0>\n",
      "got instance for  <class '__main__.TestClass0'>\n",
      "use old instance  <__main__.TestClass0 object at 0x7f5492fe66a0>\n",
      "got instance for  <class '__main__.TestClass0'>\n",
      "<__main__.TestClass0 object at 0x7f5492fe66a0> <__main__.TestClass0 object at 0x7f5492fe66a0>\n",
      "\n",
      "----------------------\n",
      "\n",
      "init test1 class object\n",
      "create instance  <__main__.TestClass1 object at 0x7f5492fe69b0>\n",
      "got instance for  <class '__main__.TestClass1'>\n",
      "use old instance  <__main__.TestClass1 object at 0x7f5492fe69b0>\n",
      "got instance for  <class '__main__.TestClass1'>\n",
      "<__main__.TestClass1 object at 0x7f5492fe69b0> <__main__.TestClass1 object at 0x7f5492fe69b0>\n"
     ]
    }
   ],
   "source": [
    "# 创建一个 metaclass 类\n",
    "class SingleInstance(type):\n",
    "    \"\"\"\n",
    "    类创建对象的时候会调用该方法, 返回类对象实例\n",
    "    \"\"\"\n",
    "    def __call__(cls, *args, **kwargs):\n",
    "        instance = getattr(cls, '__instance__', None)\n",
    "        \n",
    "        if instance is None:\n",
    "            instance = super(SingleInstance, cls).__call__(*args, **kwargs)\n",
    "            setattr(cls, '__instance__', instance)\n",
    "            print(\"create instance \", instance)\n",
    "        else:\n",
    "            print(\"use old instance \", instance)\n",
    "        print('got instance for ', cls)\n",
    "        return instance\n",
    "\n",
    "\n",
    "\"\"\"\n",
    "测试方法：\n",
    "1. 每次实验创建两个类，确认不同的类之间不会相互影响\n",
    "2. 每个类创建两个对象，确认两个对象是一样的\n",
    "\"\"\"\n",
    "class TestClass0(metaclass=SingleInstance):\n",
    "    def __init__(self):\n",
    "        print(\"init test0 class object\")\n",
    "\n",
    "\n",
    "class TestClass1(metaclass=SingleInstance):\n",
    "    def __init__(self):\n",
    "        print(\"init test1 class object\")\n",
    "        \n",
    "\n",
    "# 测试第一个类对象\n",
    "test00 = TestClass0()\n",
    "test01 = TestClass0()\n",
    "print(test00, test01)\n",
    "\n",
    "print('\\n----------------------\\n')\n",
    "\n",
    "# 测试第二个类对象\n",
    "test10 = TestClass1()\n",
    "test11 = TestClass1()\n",
    "print(test10, test11)"
   ]
  },
  {
   "cell_type": "markdown",
   "metadata": {},
   "source": [
    "## 2. 通过类的 new 方法实现\n",
    "\n",
    "* 第一次创建对象并保存到类属性中\n",
    "* 后续从类属性中取出对象，不再创建新的对象"
   ]
  },
  {
   "cell_type": "code",
   "execution_count": 40,
   "metadata": {},
   "outputs": [
    {
     "name": "stdout",
     "output_type": "stream",
     "text": [
      "new instance for  <class '__main__.SingleClass'>\n",
      "create instance for  <class '__main__.SingleClass'>\n",
      "new instance for  <class '__main__.SingleClass'>\n",
      "<__main__.SingleClass object at 0x7f5492fc75f8> <__main__.SingleClass object at 0x7f5492fc75f8>\n",
      "\n",
      "----------------------\n",
      "\n",
      "new instance for  <class '__main__.SubClass'>\n",
      "new instance for  <class '__main__.SubClass'>\n",
      "<__main__.SingleClass object at 0x7f5492fc75f8> <__main__.SingleClass object at 0x7f5492fc75f8>\n"
     ]
    }
   ],
   "source": [
    "class SingleClass():\n",
    "    def __new__(cls, *args, **kwargs):\n",
    "        print('new instance for ', cls)\n",
    "        \n",
    "        if not hasattr(cls, '__instance__'):\n",
    "            print('create instance for ', cls)\n",
    "            instance = super(SingleClass, cls).__new__(cls, *args, **kwargs)\n",
    "            cls.__instance__ = instance\n",
    "        \n",
    "        return cls.__instance__\n",
    "\n",
    "\n",
    "class SubClass(SingleClass):\n",
    "    pass\n",
    "\n",
    "test00 = SingleClass()\n",
    "test01 = SingleClass()\n",
    "print(test00, test01)\n",
    "\n",
    "print('\\n----------------------\\n')\n",
    "\n",
    "test10 = SubClass()\n",
    "test11 = SubClass()\n",
    "print(test10, test11)\n",
    "\n"
   ]
  },
  {
   "cell_type": "markdown",
   "metadata": {},
   "source": [
    "我们发现这样实现是有问题的，SubClass 无法创建自己的单例。\n",
    "因为父类 SingleClass 的类对象数据会被所有子类共享，导致所有 SingleClass 子类无法创建新的对象。\n",
    "\n",
    "解决方法是我们在 SingleClass 类中使用字典保存每个子类的实例对象，改进后代码如下："
   ]
  },
  {
   "cell_type": "code",
   "execution_count": 41,
   "metadata": {},
   "outputs": [
    {
     "name": "stdout",
     "output_type": "stream",
     "text": [
      "new instance for  <class '__main__.SingleTClass'>\n",
      "create instance for  <class '__main__.SingleTClass'>\n",
      "new instance for  <class '__main__.SingleTClass'>\n",
      "<__main__.SingleTClass object at 0x7f5492fc7ac8> <__main__.SingleTClass object at 0x7f5492fc7ac8>\n",
      "\n",
      "----------------------\n",
      "\n",
      "new instance for  <class '__main__.SubTClass'>\n",
      "create instance for  <class '__main__.SubTClass'>\n",
      "new instance for  <class '__main__.SubTClass'>\n",
      "<__main__.SubTClass object at 0x7f5492fc7438> <__main__.SubTClass object at 0x7f5492fc7438>\n"
     ]
    }
   ],
   "source": [
    "class SingleTClass():\n",
    "    __instance__ = {}\n",
    "    \n",
    "    def __new__(cls, *args, **kwargs):\n",
    "        print('new instance for ', cls)\n",
    "        \n",
    "        if not cls in cls.__instance__:\n",
    "            print('create instance for ', cls)\n",
    "            instance = super(SingleTClass, cls).__new__(cls, *args, **kwargs)\n",
    "            cls.__instance__[cls] = instance\n",
    "\n",
    "        return cls.__instance__[cls]\n",
    "\n",
    "\n",
    "class SubTClass(SingleTClass):\n",
    "    pass\n",
    "\n",
    "test00 = SingleTClass()\n",
    "test01 = SingleTClass()\n",
    "print(test00, test01)\n",
    "\n",
    "print('\\n----------------------\\n')\n",
    "\n",
    "test10 = SubTClass()\n",
    "test11 = SubTClass()\n",
    "print(test10, test11)"
   ]
  },
  {
   "cell_type": "markdown",
   "metadata": {},
   "source": [
    "## 3. 通过装饰器实现单例\n",
    "\n",
    "* 创建一个 singleclass 的装饰器\n",
    "* 创建类的时候使用上述装饰器"
   ]
  },
  {
   "cell_type": "code",
   "execution_count": 49,
   "metadata": {},
   "outputs": [
    {
     "name": "stdout",
     "output_type": "stream",
     "text": [
      "new instance for  <class '__main__.TestD1Class'>\n",
      "new instance for  <class '__main__.TestD1Class'>\n",
      "<__main__.TestD1Class object at 0x7f5492fee518> <__main__.TestD1Class object at 0x7f5492fee518>\n",
      "\n",
      "----------------------\n",
      "\n",
      "new instance for  <class '__main__.TestD2Class'>\n",
      "new instance for  <class '__main__.TestD2Class'>\n",
      "<__main__.TestD2Class object at 0x7f5492fee160> <__main__.TestD2Class object at 0x7f5492fee160>\n"
     ]
    }
   ],
   "source": [
    "from functools import wraps\n",
    "\n",
    "\"\"\"\n",
    "把类对象变成一个函数，每次调用类对象创建实例的时候，实际是调用装饰器返回的函数\n",
    "\"\"\"\n",
    "def singleclass(cls):\n",
    "    __instance__ = {}\n",
    "    \n",
    "    @wraps(cls)\n",
    "    def cls_instance(*args, **kwargs):\n",
    "        print('new instance for ', cls)\n",
    "        if not cls in __instance__:\n",
    "            __instance__[cls] = cls(*args, **kwargs)\n",
    "        return __instance__[cls]\n",
    "\n",
    "    return cls_instance\n",
    "\n",
    "@singleclass\n",
    "class TestD1Class():\n",
    "    pass\n",
    "\n",
    "@singleclass\n",
    "class TestD2Class():\n",
    "    pass\n",
    "\n",
    "\n",
    "\n",
    "test00 = TestD1Class()\n",
    "test01 = TestD1Class()\n",
    "print(test00, test01)\n",
    "\n",
    "print('\\n----------------------\\n')\n",
    "\n",
    "test10 = TestD2Class()\n",
    "test11 = TestD2Class()\n",
    "print(test10, test11)"
   ]
  },
  {
   "cell_type": "code",
   "execution_count": null,
   "metadata": {},
   "outputs": [],
   "source": []
  }
 ],
 "metadata": {
  "kernelspec": {
   "display_name": "Python 3",
   "language": "python",
   "name": "python3"
  },
  "language_info": {
   "codemirror_mode": {
    "name": "ipython",
    "version": 3
   },
   "file_extension": ".py",
   "mimetype": "text/x-python",
   "name": "python",
   "nbconvert_exporter": "python",
   "pygments_lexer": "ipython3",
   "version": "3.4.7"
  }
 },
 "nbformat": 4,
 "nbformat_minor": 2
}
