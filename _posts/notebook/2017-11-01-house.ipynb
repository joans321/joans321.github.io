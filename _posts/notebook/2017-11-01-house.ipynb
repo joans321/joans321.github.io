{
 "cells": [
  {
   "cell_type": "markdown",
   "metadata": {},
   "source": [
    "---\n",
    "layout: post\n",
    "title: 机器学习之房屋预测\n",
    "category: ai\n",
    "tags: python\n",
    "---"
   ]
  },
  {
   "cell_type": "markdown",
   "metadata": {},
   "source": [
    "## 目标\n",
    "\n",
    "使用已有的房屋面积以及房屋价格数据进行机器学习。\n",
    "原始数据保存在 [prices.txt](https://raw.githubusercontent.com/carefree0910/MachineLearning/master/_Data/prices.txt) 文件中。其中第一列代码房屋面积，第二列代表房屋价格。\n",
    "\n",
    "使用 Python 代码画出面积和价格的散点图。"
   ]
  },
  {
   "cell_type": "code",
   "execution_count": 9,
   "metadata": {},
   "outputs": [
    {
     "data": {
      "image/png": "[encoded data removed]",
      "text/plain": [
       "<matplotlib.figure.Figure at 0x7ff27ba152b0>"
      ]
     },
     "metadata": {},
     "output_type": "display_data"
    }
   ],
   "source": [
    "%matplotlib inline\n",
    "import numpy as np\n",
    "import matplotlib.pyplot as plt\n",
    "import requests\n",
    "\n",
    "data_url = 'https://raw.githubusercontent.com/carefree0910/MachineLearning/master/_Data/prices.txt'\n",
    "req = requests.get(data_url)\n",
    "\n",
    "spaces = []\n",
    "prices = []\n",
    "\n",
    "for line in req.text.strip().split('\\n'):\n",
    "    _s, _p = line.split(',')\n",
    "    spaces.append(float(_s))\n",
    "    prices.append(float(_p))\n",
    "\n",
    "# 完整的房屋大小和价钱数据    \n",
    "spaces, prices = np.array(spaces), np.array(prices)\n",
    "\n",
    "# 画散点图\n",
    "plt.scatter(spaces, prices, c='g', s=20)\n",
    "plt.title(\"Hourse Space & Prices Scatter\")\n",
    "plt.xlabel(\"Space\")\n",
    "plt.ylabel(\"Prices\")\n",
    "plt.show()\n"
   ]
  },
  {
   "cell_type": "markdown",
   "metadata": {},
   "source": [
    "## 模型选择\n",
    "\n",
    "这里使用多项式来拟合数据。假设多项式公式如下：\n",
    "\n",
    "$$ f(x|a;n) = a_0 + a_1*x^1 + \\ldots + a_n*x^n = \\sum_{i=0}^n{a_i*x^i}$$\n",
    "\n",
    "其中 x 表示房屋面积， a 是多项式系数， n 是多项式的阶数（a,n 都属于模型参数）。\n",
    "\n",
    "模型采用均方差作为损失函数，定义如下：\n",
    "\n",
    "$$ L(a;n) = \\frac{1}{2} \\sum_{i=0}^n \\left| f(x|a;n) - y \\right|^2 $$\n",
    "\n",
    "\n",
    "\n",
    "\n",
    "## 模型训练\n"
   ]
  },
  {
   "cell_type": "markdown",
   "metadata": {},
   "source": [
    "## 参考\n",
    "\n",
    "* 监督学习应用.梯度下降: http://open.163.com/movie/2008/1/B/O/M6SGF6VB4_M6SGHJ9BO.html\n",
    "\n",
    "* 第一个机器学习样例 : http://www.carefree0910.com/posts/372587d5/"
   ]
  },
  {
   "cell_type": "code",
   "execution_count": null,
   "metadata": {},
   "outputs": [],
   "source": []
  }
 ],
 "metadata": {
  "kernelspec": {
   "display_name": "Python 3",
   "language": "python",
   "name": "python3"
  },
  "language_info": {
   "codemirror_mode": {
    "name": "ipython",
    "version": 3
   },
   "file_extension": ".py",
   "mimetype": "text/x-python",
   "name": "python",
   "nbconvert_exporter": "python",
   "pygments_lexer": "ipython3",
   "version": "3.4.7"
  }
 },
 "nbformat": 4,
 "nbformat_minor": 2
}
