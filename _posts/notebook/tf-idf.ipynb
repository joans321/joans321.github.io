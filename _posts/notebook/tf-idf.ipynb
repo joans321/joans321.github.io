{
 "cells": [
  {
   "cell_type": "markdown",
   "metadata": {},
   "source": [
    "词频(Term Frequency)是一个词在文档中出现的频率，比如一个文章有1000个单词，其中一个词出现20次，则这个单词的词频等于 20/1000 = 0.02\n",
    "\n",
    "然而，有一些词类似 \"是\"、\"那\"、\"的\" 等通用词有很高的词频，因此我们需要识别出这些词。\n",
    "\n",
    "逆文档频率(Inverse Document Frequency)反应出一个词跟一些特定主题关联的重要性(值越大，跟主题关联的程度越高），它的数学公式如下：\n",
    "\n",
    "$$\n",
    "IDF(w) = log(文章总数/含有单词w的文章数)\n",
    "$$\n",
    "\n",
    "例如我们有10篇技术主题的文章，其中10篇都有 “的” 这个词，则 IDF(的) = log(10/10) = 0，说明 “的” 这个词对一篇文章是不是技术主题是不重要的。\n",
    "\n",
    "词频-逆文档频率(TD-IDF) 是词频和逆文档频率的乘积。词频-逆文档频率可以用来区分文档的主题类别，对于本文来说，需要计算正常邮件和垃圾邮件中的每个词的 TD-IDF。\n"
   ]
  }
 ],
 "metadata": {
  "kernelspec": {
   "display_name": "Python 3",
   "language": "python",
   "name": "python3"
  },
  "language_info": {
   "codemirror_mode": {
    "name": "ipython",
    "version": 3
   },
   "file_extension": ".py",
   "mimetype": "text/x-python",
   "name": "python",
   "nbconvert_exporter": "python",
   "pygments_lexer": "ipython3",
   "version": "3.6.4"
  }
 },
 "nbformat": 4,
 "nbformat_minor": 2
}
