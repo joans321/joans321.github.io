{
 "cells": [
  {
   "cell_type": "markdown",
   "metadata": {},
   "source": [
    "---\n",
    "layout: post\n",
    "title: python 音频设备操作\n",
    "category: math\n",
    "tags: [math, ai, python]\n",
    "---"
   ]
  },
  {
   "cell_type": "markdown",
   "metadata": {},
   "source": [
    "# 写数据到Wave文件\n",
    "\n",
    "wave 接口文档： https://docs.python.org/3/library/wave.html"
   ]
  },
  {
   "cell_type": "code",
   "execution_count": 5,
   "metadata": {},
   "outputs": [],
   "source": [
    "%matplotlib notebook\n",
    "import wave\n",
    "import numpy as np\n",
    "import scipy.signal as signal\n",
    "\n",
    "# 采样率\n",
    "sample_rate = 8000\n",
    "\n",
    "# 生成 10s 的声音文件\n",
    "time = 10\n",
    "\n",
    "# 生成采样点对应的时间序列\n",
    "w_time = np.arange(0, time, 1.0/sample_rate)\n",
    "\n",
    "# 生成 100Hz 到 1000Hz 的鸟声（Chirp）信号\n",
    "w_data = signal.chirp(w_time, 100, time, 1000, method='linear') * 10000\n",
    "w_data = w_data.astype(np.short)\n",
    "\n",
    "# 把数据写到 wave 文件中，可以使用 audacity 软件查看\n",
    "with wave.open('sweep.wav', 'wb') as f:\n",
    "    f.setnchannels(1)\n",
    "    f.setsampwidth(2)\n",
    "    f.setframerate(sample_rate)\n",
    "    f.writeframes(w_data)"
   ]
  },
  {
   "cell_type": "markdown",
   "metadata": {},
   "source": [
    "# 从Wave文件读数据并播放\n",
    "\n",
    "pyaudio 项目地址： https://github.com/jleb/pyaudio\n",
    "\n",
    "pyaudio 接口文档： http://people.csail.mit.edu/hubert/pyaudio/"
   ]
  },
  {
   "cell_type": "code",
   "execution_count": 16,
   "metadata": {},
   "outputs": [
    {
     "name": "stdout",
     "output_type": "stream",
     "text": [
      "play wave success!\n"
     ]
    }
   ],
   "source": [
    "import wave\n",
    "import numpy as np\n",
    "import pyaudio\n",
    "\n",
    "chunk = 1024\n",
    "\n",
    "# 从文件中读出音频参数及数据\n",
    "with wave.open('sweep.wav', 'rb') as f:\n",
    "    params = f.getparams()\n",
    "    nchannels, sample_width, sample_rate, nframes = params[0:4]\n",
    "   \n",
    "    # 打开声卡设备\n",
    "    pdev = pyaudio.PyAudio()\n",
    "    stream = pdev.open(format = pdev.get_format_from_width(sample_width),\n",
    "                       channels = nchannels,\n",
    "                       rate = sample_rate,\n",
    "                       output = True)\n",
    "    \n",
    "    # 读出数据并写到声卡\n",
    "    while True:\n",
    "        data = f.readframes(chunk)\n",
    "        # 将数据转换为数组\n",
    "        # r_data = np.fromstring(data, dtype=np.short)\n",
    "        if len(data) == 0:\n",
    "            break\n",
    "        stream.write(data)\n",
    "    \n",
    "    # 关闭声卡设备\n",
    "    stream.close()\n",
    "    pdev.terminate()\n",
    "\n",
    "print('play wave success!')"
   ]
  },
  {
   "cell_type": "markdown",
   "metadata": {},
   "source": [
    "# 录音并保存文件"
   ]
  },
  {
   "cell_type": "code",
   "execution_count": 15,
   "metadata": {},
   "outputs": [
    {
     "name": "stdout",
     "output_type": "stream",
     "text": [
      "record success!\n"
     ]
    }
   ],
   "source": [
    "import wave\n",
    "import numpy as np\n",
    "import pyaudio\n",
    "\n",
    "chunk = 160\n",
    "sample_rate = 8000\n",
    "channle = 1\n",
    "record_total = 8000 * 10 * 2\n",
    "record_count= 0\n",
    "\n",
    "pdev = pyaudio.PyAudio()\n",
    "stream_in = pdev.open(format = pdev.get_format_from_width(2),\n",
    "                  channels = 1,\n",
    "                  rate = sample_rate,\n",
    "                  input = True,\n",
    "                  frames_per_buffer = chunk)\n",
    "stream_out = pdev.open(format = pdev.get_format_from_width(2),\n",
    "                  channels = 1,\n",
    "                  rate = sample_rate,\n",
    "                  output = True,\n",
    "                  frames_per_buffer = chunk)\n",
    "\n",
    "record = wave.open('record.wav', 'wb')\n",
    "record.setnchannels(1)\n",
    "record.setsampwidth(2)\n",
    "record.setframerate(sample_rate)\n",
    "\n",
    "\n",
    "while record_total > record_count :\n",
    "    record_data = stream_in.read(chunk)\n",
    "    record.writeframes(record_data)\n",
    "    stream_out.write(record_data)\n",
    "    record_count += len(record_data)\n",
    "\n",
    "\n",
    "stream_in.close()\n",
    "stream_out.close()\n",
    "pdev.terminate()\n",
    "print('record success!')"
   ]
  },
  {
   "cell_type": "markdown",
   "metadata": {},
   "source": [
    "# 参考\n",
    "\n",
    "* [声音的输入输出](https://www.kancloud.cn/wizardforcel/hyry-studio-scipy/129095)"
   ]
  },
  {
   "cell_type": "code",
   "execution_count": null,
   "metadata": {},
   "outputs": [],
   "source": []
  }
 ],
 "metadata": {
  "kernelspec": {
   "display_name": "Python 3",
   "language": "python",
   "name": "python3"
  },
  "language_info": {
   "codemirror_mode": {
    "name": "ipython",
    "version": 3
   },
   "file_extension": ".py",
   "mimetype": "text/x-python",
   "name": "python",
   "nbconvert_exporter": "python",
   "pygments_lexer": "ipython3",
   "version": "3.6.4"
  }
 },
 "nbformat": 4,
 "nbformat_minor": 2
}
