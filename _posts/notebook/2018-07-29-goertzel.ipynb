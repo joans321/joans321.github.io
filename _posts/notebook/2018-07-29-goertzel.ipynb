{
 "cells": [
  {
   "cell_type": "markdown",
   "metadata": {},
   "source": [
    "---\n",
    "layout: post\n",
    "title: python goertzel DTMF 检测算法\n",
    "category: dsp\n",
    "tags: [dsp, ai, python]\n",
    "---"
   ]
  },
  {
   "cell_type": "code",
   "execution_count": 21,
   "metadata": {},
   "outputs": [
    {
     "name": "stdout",
     "output_type": "stream",
     "text": [
      "===== FFT Result =========\n",
      "index 20 :  (-8.346996846337895e-13-127.99999999999994j) 127.99999999999994\n",
      "index 40 :  (-1.7659087001539012e-12-128j) 128.0\n",
      "\n",
      "===== Goertzel Result =========\n",
      "goertzel 20 :  (-1.5347723092418164e-12-128.00000000000003j) 128.00000000000003\n",
      "goertzel 40 :  (-2.9274360713316128e-12-128j) 128.0\n"
     ]
    }
   ],
   "source": [
    "%matplotlib notebook\n",
    "import numpy as np\n",
    "import scipy.signal as signal\n",
    "import matplotlib.pyplot as plt\n",
    "from scipy.fftpack import fft\n",
    "\n",
    "sample_rate = 8000\n",
    "\n",
    "N = 256\n",
    "\n",
    "f_step = sample_rate / N\n",
    "\n",
    "t = np.arange(0, 1, 1/sample_rate)\n",
    "\n",
    "dtmf_freqs = np.array([697, 770, 852, 941, 1209, 1336, 1477, 1633])\n",
    "\n",
    "\n",
    "f1 = np.sin(2 * np.pi * f_step * 20 * t)\n",
    "f2 = np.sin(2 * np.pi * f_step * 40 * t)\n",
    "\n",
    "x = f1 + f2\n",
    "\n",
    "X = fft(x[:N], n = N)\n",
    "\n",
    "print('===== FFT Result =========')\n",
    "print('index 20 : ', X[20], np.abs(X[20]))\n",
    "print('index 40 : ', X[40], np.abs(X[40]))\n",
    "\n",
    "def goertzel(x, detect_freq, sample_rate):\n",
    "    N = len(x)\n",
    "    f_step = sample_rate / N\n",
    "    k = int(detect_freq / f_step)\n",
    "    \n",
    "    v_cos = np.cos(2 * np.pi * k / N)\n",
    "    v_sin = np.sin(2 * np.pi * k / N)\n",
    "    coef = 2 * v_cos\n",
    "    \n",
    "    g1, g2 = 0.0, 0.0\n",
    "    for i in range(N):\n",
    "        _y = x[i] + coef * g1 - g2\n",
    "        g2 = g1\n",
    "        g1 = _y\n",
    "\n",
    "    o_real = g1 - v_cos * g2\n",
    "    o_image = v_sin * g2\n",
    "    o_real = v_cos * g1 - g2\n",
    "    o_image = v_sin * g1\n",
    "    amp = g1 ** 2 + g2 ** 2 - g2 * g1 * coef\n",
    "    return (o_real + 1j * o_image, amp)\n",
    "\n",
    "\n",
    "print('\\n===== Goertzel Result =========')\n",
    "x20, amp = goertzel(x[:N], f_step * 20, sample_rate)\n",
    "print('goertzel 20 : ', x20, np.abs(x20))\n",
    "\n",
    "x40, amp = goertzel(x[:N], f_step * 40, sample_rate)\n",
    "print('goertzel 40 : ', x40, np.abs(x40))\n",
    "\n"
   ]
  },
  {
   "cell_type": "markdown",
   "metadata": {},
   "source": [
    "# 参考\n",
    "\n",
    "* [Wiki : Goertzel_algorithm](https://en.wikipedia.org/wiki/Goertzel_algorithm)\n",
    "* [python 实现 goertzel 算法代码](https://gist.github.com/sebpiq/4128537)"
   ]
  },
  {
   "cell_type": "code",
   "execution_count": null,
   "metadata": {},
   "outputs": [],
   "source": []
  }
 ],
 "metadata": {
  "kernelspec": {
   "display_name": "Python 3",
   "language": "python",
   "name": "python3"
  },
  "language_info": {
   "codemirror_mode": {
    "name": "ipython",
    "version": 3
   },
   "file_extension": ".py",
   "mimetype": "text/x-python",
   "name": "python",
   "nbconvert_exporter": "python",
   "pygments_lexer": "ipython3",
   "version": "3.6.4"
  }
 },
 "nbformat": 4,
 "nbformat_minor": 2
}
